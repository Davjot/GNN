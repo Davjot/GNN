{
  "nbformat": 4,
  "nbformat_minor": 0,
  "metadata": {
    "colab": {
      "provenance": [],
      "authorship_tag": "ABX9TyNJ5MtBJsffjLLhBifPoHvT",
      "include_colab_link": true
    },
    "kernelspec": {
      "name": "python3",
      "display_name": "Python 3"
    },
    "language_info": {
      "name": "python"
    }
  },
  "cells": [
    {
      "cell_type": "markdown",
      "metadata": {
        "id": "view-in-github",
        "colab_type": "text"
      },
      "source": [
        "<a href=\"https://colab.research.google.com/github/Davjot/GNN/blob/main/GNN.ipynb\" target=\"_parent\"><img src=\"https://colab.research.google.com/assets/colab-badge.svg\" alt=\"Open In Colab\"/></a>"
      ]
    },
    {
      "cell_type": "markdown",
      "source": [
        "# HOW TO IMPLEMENT A GRAPH"
      ],
      "metadata": {
        "id": "KEInyuFPEFSA"
      }
    },
    {
      "cell_type": "code",
      "execution_count": 1,
      "metadata": {
        "id": "BwfzIwVvkcYg"
      },
      "outputs": [],
      "source": [
        "import networkx as nx"
      ]
    },
    {
      "cell_type": "code",
      "source": [
        "H = nx.DiGraph()"
      ],
      "metadata": {
        "id": "T65yMj1ekiXT"
      },
      "execution_count": 2,
      "outputs": []
    },
    {
      "cell_type": "code",
      "source": [
        "H.add_nodes_from([\n",
        "    (0, {'color' : 'gray', 'size' : 450}),\n",
        "    (1, {'color' : 'yellow', 'size' : 700}),\n",
        "    (2, {'color' : 'red', 'size' : 250}),\n",
        "    (3, {'color' : 'pink', 'size' : 500}),\n",
        "])"
      ],
      "metadata": {
        "id": "F3qQiM9TkiUf"
      },
      "execution_count": 3,
      "outputs": []
    },
    {
      "cell_type": "code",
      "source": [
        "for node in H.nodes(data = True):\n",
        "  print(node)"
      ],
      "metadata": {
        "colab": {
          "base_uri": "https://localhost:8080/"
        },
        "id": "LrYHOwOikiSE",
        "outputId": "b9fee34d-cf38-4f8b-c743-2f6f8007f7c4"
      },
      "execution_count": 5,
      "outputs": [
        {
          "output_type": "stream",
          "name": "stdout",
          "text": [
            "(0, {'color': 'gray', 'size': 450})\n",
            "(1, {'color': 'yellow', 'size': 700})\n",
            "(2, {'color': 'red', 'size': 250})\n",
            "(3, {'color': 'pink', 'size': 500})\n"
          ]
        }
      ]
    },
    {
      "cell_type": "code",
      "source": [
        "H.add_edges_from([\n",
        "    (0,1),\n",
        "    (1,2),\n",
        "    (2,0),\n",
        "    (2,3),\n",
        "    (3,2)\n",
        "])"
      ],
      "metadata": {
        "id": "F8urgWYQkiPJ"
      },
      "execution_count": 6,
      "outputs": []
    },
    {
      "cell_type": "code",
      "source": [
        "print(H.edges())"
      ],
      "metadata": {
        "colab": {
          "base_uri": "https://localhost:8080/"
        },
        "id": "RbeoFv2mlb1u",
        "outputId": "107d3498-1337-4f44-dfb6-1e3fa5d565c3"
      },
      "execution_count": 7,
      "outputs": [
        {
          "output_type": "stream",
          "name": "stdout",
          "text": [
            "[(0, 1), (1, 2), (2, 0), (2, 3), (3, 2)]\n"
          ]
        }
      ]
    },
    {
      "cell_type": "code",
      "source": [
        "def print_graph_info(graph):\n",
        "  print('Directed graph : ', graph.is_directed())\n",
        "  print('Number of nodes : ', graph.number_of_nodes())\n",
        "  print('Number of edges : ', graph.number_of_edges())"
      ],
      "metadata": {
        "id": "CV_4yWNule_w"
      },
      "execution_count": 8,
      "outputs": []
    },
    {
      "cell_type": "code",
      "source": [
        "print_graph_info(H)"
      ],
      "metadata": {
        "colab": {
          "base_uri": "https://localhost:8080/"
        },
        "id": "jzZ5vyvCl6gF",
        "outputId": "89cbe4bb-a674-4c64-fd00-303b48f71bb5"
      },
      "execution_count": 10,
      "outputs": [
        {
          "output_type": "stream",
          "name": "stdout",
          "text": [
            "Directed graph :  True\n",
            "Number of nodes :  4\n",
            "Number of edges :  5\n"
          ]
        }
      ]
    },
    {
      "cell_type": "code",
      "source": [
        "node_colors = nx.get_node_attributes(H, 'color').values()\n",
        "colors = list(node_colors)\n",
        "\n",
        "node_sizes = nx.get_node_attributes(H, 'size').values()\n",
        "sizes = list(node_sizes)\n",
        "\n",
        "nx.draw(H, with_labels = True, node_color = colors, node_size = sizes)"
      ],
      "metadata": {
        "colab": {
          "base_uri": "https://localhost:8080/",
          "height": 516
        },
        "id": "FFMQQmjnl_0G",
        "outputId": "14680a74-5ece-478c-f590-f0d905ff6ac1"
      },
      "execution_count": 12,
      "outputs": [
        {
          "output_type": "display_data",
          "data": {
            "text/plain": [
              "<Figure size 640x480 with 1 Axes>"
            ],
            "image/png": "[encoded data removed]"
          },
          "metadata": {}
        }
      ]
    },
    {
      "cell_type": "code",
      "source": [
        "G = H.to_undirected()\n",
        "print_graph_info(G)"
      ],
      "metadata": {
        "colab": {
          "base_uri": "https://localhost:8080/"
        },
        "id": "GQnymKyomtjf",
        "outputId": "00380b2f-1f56-4f27-fc33-8dc3d16d7f05"
      },
      "execution_count": 13,
      "outputs": [
        {
          "output_type": "stream",
          "name": "stdout",
          "text": [
            "Directed graph :  False\n",
            "Number of nodes :  4\n",
            "Number of edges :  4\n"
          ]
        }
      ]
    },
    {
      "cell_type": "code",
      "source": [
        "print(G.edges())"
      ],
      "metadata": {
        "colab": {
          "base_uri": "https://localhost:8080/"
        },
        "id": "ob6x2C2bm32U",
        "outputId": "47b7c21e-a4ec-4b75-a853-ed930cca0a10"
      },
      "execution_count": 14,
      "outputs": [
        {
          "output_type": "stream",
          "name": "stdout",
          "text": [
            "[(0, 1), (0, 2), (1, 2), (2, 3)]\n"
          ]
        }
      ]
    },
    {
      "cell_type": "code",
      "source": [
        "nx.draw(G, with_labels = True, node_color = colors, node_size = sizes)"
      ],
      "metadata": {
        "colab": {
          "base_uri": "https://localhost:8080/",
          "height": 516
        },
        "id": "M27-KTJwm7EE",
        "outputId": "b279ccca-d2a4-413a-fc79-c39b6e6c9bd0"
      },
      "execution_count": 15,
      "outputs": [
        {
          "output_type": "display_data",
          "data": {
            "text/plain": [
              "<Figure size 640x480 with 1 Axes>"
            ],
            "image/png": "[encoded data removed]"
          },
          "metadata": {}
        }
      ]
    },
    {
      "cell_type": "markdown",
      "source": [
        "# IMPLEMENT GNN ON KARATE CLUB DATASET"
      ],
      "metadata": {
        "id": "VgmXXSK0EY85"
      }
    },
    {
      "cell_type": "code",
      "source": [
        "!pip install torch_geometric"
      ],
      "metadata": {
        "colab": {
          "base_uri": "https://localhost:8080/"
        },
        "id": "dA4UQiKNnRiD",
        "outputId": "59c1c785-9f84-4af9-a44d-ca36994e050e"
      },
      "execution_count": 17,
      "outputs": [
        {
          "output_type": "stream",
          "name": "stdout",
          "text": [
            "Looking in indexes: https://pypi.org/simple, https://us-python.pkg.dev/colab-wheels/public/simple/\n",
            "Collecting torch_geometric\n",
            "  Downloading torch_geometric-2.3.1.tar.gz (661 kB)\n",
            "\u001b[2K     \u001b[90m━━━━━━━━━━━━━━━━━━━━━━━━━━━━━━━━━━━━━━\u001b[0m \u001b[32m661.6/661.6 kB\u001b[0m \u001b[31m10.8 MB/s\u001b[0m eta \u001b[36m0:00:00\u001b[0m\n",
            "\u001b[?25h  Installing build dependencies ... \u001b[?25l\u001b[?25hdone\n",
            "  Getting requirements to build wheel ... \u001b[?25l\u001b[?25hdone\n",
            "  Preparing metadata (pyproject.toml) ... \u001b[?25l\u001b[?25hdone\n",
            "Requirement already satisfied: tqdm in /usr/local/lib/python3.10/dist-packages (from torch_geometric) (4.65.0)\n",
            "Requirement already satisfied: numpy in /usr/local/lib/python3.10/dist-packages (from torch_geometric) (1.22.4)\n",
            "Requirement already satisfied: scipy in /usr/local/lib/python3.10/dist-packages (from torch_geometric) (1.10.1)\n",
            "Requirement already satisfied: jinja2 in /usr/local/lib/python3.10/dist-packages (from torch_geometric) (3.1.2)\n",
            "Requirement already satisfied: requests in /usr/local/lib/python3.10/dist-packages (from torch_geometric) (2.27.1)\n",
            "Requirement already satisfied: pyparsing in /usr/local/lib/python3.10/dist-packages (from torch_geometric) (3.0.9)\n",
            "Requirement already satisfied: scikit-learn in /usr/local/lib/python3.10/dist-packages (from torch_geometric) (1.2.2)\n",
            "Requirement already satisfied: psutil>=5.8.0 in /usr/local/lib/python3.10/dist-packages (from torch_geometric) (5.9.5)\n",
            "Requirement already satisfied: MarkupSafe>=2.0 in /usr/local/lib/python3.10/dist-packages (from jinja2->torch_geometric) (2.1.2)\n",
            "Requirement already satisfied: urllib3<1.27,>=1.21.1 in /usr/local/lib/python3.10/dist-packages (from requests->torch_geometric) (1.26.15)\n",
            "Requirement already satisfied: certifi>=2017.4.17 in /usr/local/lib/python3.10/dist-packages (from requests->torch_geometric) (2022.12.7)\n",
            "Requirement already satisfied: charset-normalizer~=2.0.0 in /usr/local/lib/python3.10/dist-packages (from requests->torch_geometric) (2.0.12)\n",
            "Requirement already satisfied: idna<4,>=2.5 in /usr/local/lib/python3.10/dist-packages (from requests->torch_geometric) (3.4)\n",
            "Requirement already satisfied: joblib>=1.1.1 in /usr/local/lib/python3.10/dist-packages (from scikit-learn->torch_geometric) (1.2.0)\n",
            "Requirement already satisfied: threadpoolctl>=2.0.0 in /usr/local/lib/python3.10/dist-packages (from scikit-learn->torch_geometric) (3.1.0)\n",
            "Building wheels for collected packages: torch_geometric\n",
            "  Building wheel for torch_geometric (pyproject.toml) ... \u001b[?25l\u001b[?25hdone\n",
            "  Created wheel for torch_geometric: filename=torch_geometric-2.3.1-py3-none-any.whl size=910459 sha256=e4a8db4c31f923376c082d7e9b890d8ffc9692e6fcc2bf7096d17d97fb6b12af\n",
            "  Stored in directory: /root/.cache/pip/wheels/ac/dc/30/e2874821ff308ee67dcd7a66dbde912411e19e35a1addda028\n",
            "Successfully built torch_geometric\n",
            "Installing collected packages: torch_geometric\n",
            "Successfully installed torch_geometric-2.3.1\n"
          ]
        }
      ]
    },
    {
      "cell_type": "code",
      "source": [
        "#install required packages\n",
        "import os\n",
        "import torch\n",
        "os.environ['TORCH'] = torch.__version__\n",
        "print(torch.__version__)\n",
        "#ensure that the PyTorch and the PyG are the same version\n",
        "!pip install -q torch-scatter -f https://data.pyg.org/whl/torch-${TORCH}.html\n",
        "!pip install -q torch-sparse -f https://data.pyg.org/whl/torch-${TORCH}.html\n",
        "!pip install -q git+https://github.com/pyg-team/pytorch_geometric.git\n",
        "\n",
        "# Helper function for visualization.\n",
        "%matplotlib inline\n",
        "import networkx as nx\n",
        "import matplotlib.pyplot as plt"
      ],
      "metadata": {
        "colab": {
          "base_uri": "https://localhost:8080/"
        },
        "id": "IpFguUJuBTb4",
        "outputId": "92e7dbf7-5026-4d80-fad2-aadb105b7093"
      },
      "execution_count": 45,
      "outputs": [
        {
          "output_type": "stream",
          "name": "stdout",
          "text": [
            "2.0.1+cu118\n",
            "\u001b[2K     \u001b[90m━━━━━━━━━━━━━━━━━━━━━━━━━━━━━━━━━━━━━━━━\u001b[0m \u001b[32m10.2/10.2 MB\u001b[0m \u001b[31m9.9 MB/s\u001b[0m eta \u001b[36m0:00:00\u001b[0m\n",
            "\u001b[2K     \u001b[90m━━━━━━━━━━━━━━━━━━━━━━━━━━━━━━━━━━━━━━━━\u001b[0m \u001b[32m4.8/4.8 MB\u001b[0m \u001b[31m9.9 MB/s\u001b[0m eta \u001b[36m0:00:00\u001b[0m\n",
            "\u001b[?25h  Installing build dependencies ... \u001b[?25l\u001b[?25hdone\n",
            "  Getting requirements to build wheel ... \u001b[?25l\u001b[?25hdone\n",
            "  Preparing metadata (pyproject.toml) ... \u001b[?25l\u001b[?25hdone\n",
            "  Building wheel for torch_geometric (pyproject.toml) ... \u001b[?25l\u001b[?25hdone\n"
          ]
        }
      ]
    },
    {
      "cell_type": "code",
      "source": [
        "def visualize_graph(G, color):\n",
        "    plt.figure(figsize=(7,7))\n",
        "    plt.xticks([])\n",
        "    plt.yticks([])\n",
        "    nx.draw_networkx(G, pos=nx.spring_layout(G, seed=42), with_labels=False,\n",
        "                     node_color=color, cmap=\"Set2\")\n",
        "    plt.show()"
      ],
      "metadata": {
        "id": "iEe6jUVvBTY2"
      },
      "execution_count": 46,
      "outputs": []
    },
    {
      "cell_type": "code",
      "source": [
        "from torch_geometric.datasets import KarateClub\n",
        "\n",
        "dataset = KarateClub()"
      ],
      "metadata": {
        "id": "p76qdg7NBTWM"
      },
      "execution_count": 47,
      "outputs": []
    },
    {
      "cell_type": "code",
      "source": [
        "print('Dataset properties')\n",
        "print('==============================================================')\n",
        "print(f'Dataset: {dataset}') #This prints the name of the dataset\n",
        "print(f'Number of graphs in the dataset: {len(dataset)}')\n",
        "print(f'Number of features: {dataset.num_features}') #Number of features each node in the dataset has\n",
        "print(f'Number of classes: {dataset.num_classes}') #Number of classes that a node can be classified into\n",
        "\n",
        "\n",
        "#Since we have one graph in the dataset, we will select the graph and explore it's properties\n",
        "\n",
        "data = dataset[0]\n",
        "print('Graph properties')\n",
        "print('==============================================================')\n",
        "\n",
        "# Gather some statistics about the graph.\n",
        "print(f'Number of nodes: {data.num_nodes}') #Number of nodes in the graph\n",
        "print(f'Number of edges: {data.num_edges}') #Number of edges in the graph\n",
        "print(f'Average node degree: {data.num_edges / data.num_nodes:.2f}') # Average number of nodes in the graph\n",
        "print(f'Contains isolated nodes: {data.has_isolated_nodes()}') #Does the graph contains nodes that are not connected\n",
        "print(f'Contains self-loops: {data.has_self_loops()}') #Does the graph contains nodes that are linked to themselves\n",
        "print(f'Is undirected: {data.is_undirected()}') #Is the graph an undirected graph"
      ],
      "metadata": {
        "colab": {
          "base_uri": "https://localhost:8080/"
        },
        "id": "pKJLG1wdBTTO",
        "outputId": "f50d6024-07e1-43f5-bfa5-d36ea179ab24"
      },
      "execution_count": 48,
      "outputs": [
        {
          "output_type": "stream",
          "name": "stdout",
          "text": [
            "Dataset properties\n",
            "==============================================================\n",
            "Dataset: KarateClub()\n",
            "Number of graphs in the dataset: 1\n",
            "Number of features: 34\n",
            "Number of classes: 4\n",
            "Graph properties\n",
            "==============================================================\n",
            "Number of nodes: 34\n",
            "Number of edges: 156\n",
            "Average node degree: 4.59\n",
            "Contains isolated nodes: False\n",
            "Contains self-loops: False\n",
            "Is undirected: True\n"
          ]
        }
      ]
    },
    {
      "cell_type": "code",
      "source": [
        "from torch_geometric.utils import to_networkx\n",
        "\n",
        "G = to_networkx(data, to_undirected=True)\n",
        "visualize_graph(G, color=data.y)"
      ],
      "metadata": {
        "colab": {
          "base_uri": "https://localhost:8080/",
          "height": 576
        },
        "id": "eHbMBGIwBTP6",
        "outputId": "98a2df26-5bb3-4374-9383-85afb6d7d46d"
      },
      "execution_count": 49,
      "outputs": [
        {
          "output_type": "display_data",
          "data": {
            "text/plain": [
              "<Figure size 700x700 with 1 Axes>"
            ],
            "image/png": "[encoded data removed]"
          },
          "metadata": {}
        }
      ]
    },
    {
      "cell_type": "code",
      "source": [
        "import torch\n",
        "from torch.nn import Linear\n",
        "from torch_geometric.nn import GCNConv\n",
        "\n",
        "\n",
        "class GCN(torch.nn.Module):\n",
        "    def __init__(self):\n",
        "        super(GCN, self).__init__()\n",
        "        torch.manual_seed(12345)\n",
        "        self.conv1 = GCNConv(dataset.num_features, 4)\n",
        "        self.conv2 = GCNConv(4, 4)\n",
        "        self.conv3 = GCNConv(4, 2)\n",
        "        self.classifier = Linear(2, dataset.num_classes)\n",
        "\n",
        "    def forward(self, x, edge_index):\n",
        "        h = self.conv1(x, edge_index)\n",
        "        h = h.tanh()\n",
        "        h = self.conv2(h, edge_index)\n",
        "        h = h.tanh()\n",
        "        h = self.conv3(h, edge_index)\n",
        "        h = h.tanh()  # Final GNN embedding space.\n",
        "\n",
        "        # Apply a final (linear) classifier.\n",
        "        out = self.classifier(h)\n",
        "\n",
        "        return out, h\n",
        "\n",
        "model = GCN()\n",
        "print(model)"
      ],
      "metadata": {
        "colab": {
          "base_uri": "https://localhost:8080/"
        },
        "id": "HZz9-ZoeBTMp",
        "outputId": "1fdc3ba0-8e24-4b1b-c498-ceafce7457d9"
      },
      "execution_count": 50,
      "outputs": [
        {
          "output_type": "stream",
          "name": "stdout",
          "text": [
            "GCN(\n",
            "  (conv1): GCNConv(34, 4)\n",
            "  (conv2): GCNConv(4, 4)\n",
            "  (conv3): GCNConv(4, 2)\n",
            "  (classifier): Linear(in_features=2, out_features=4, bias=True)\n",
            ")\n"
          ]
        }
      ]
    },
    {
      "cell_type": "code",
      "source": [
        "model = GCN()\n",
        "criterion = torch.nn.CrossEntropyLoss()  #Initialize the CrossEntropyLoss function.\n",
        "optimizer = torch.optim.Adam(model.parameters(), lr=0.01)  # Initialize the Adam optimizer.\n",
        "\n",
        "def train(data):\n",
        "    optimizer.zero_grad()  # Clear gradients.\n",
        "    out, h = model(data.x, data.edge_index)  # Perform a single forward pass.\n",
        "    loss = criterion(out[data.train_mask], data.y[data.train_mask])  # Compute the loss solely based on the training nodes.\n",
        "    loss.backward()  # Derive gradients.\n",
        "    optimizer.step()  # Update parameters based on gradients.\n",
        "    return loss, h\n",
        "\n",
        "for epoch in range(401):\n",
        "    loss, h = train(data)\n",
        "    print(f'Epoch: {epoch}, Loss: {loss}')"
      ],
      "metadata": {
        "colab": {
          "base_uri": "https://localhost:8080/"
        },
        "id": "DTxKFuUVBTJi",
        "outputId": "320afed3-dfec-4137-cebb-5dc8f04fc4f3"
      },
      "execution_count": 51,
      "outputs": [
        {
          "output_type": "stream",
          "name": "stdout",
          "text": [
            "Epoch: 0, Loss: 1.414404273033142\n",
            "Epoch: 1, Loss: 1.4079036712646484\n",
            "Epoch: 2, Loss: 1.4017865657806396\n",
            "Epoch: 3, Loss: 1.3959276676177979\n",
            "Epoch: 4, Loss: 1.3902204036712646\n",
            "Epoch: 5, Loss: 1.3845514059066772\n",
            "Epoch: 6, Loss: 1.3788156509399414\n",
            "Epoch: 7, Loss: 1.372924566268921\n",
            "Epoch: 8, Loss: 1.3668041229248047\n",
            "Epoch: 9, Loss: 1.3603920936584473\n",
            "Epoch: 10, Loss: 1.3536320924758911\n",
            "Epoch: 11, Loss: 1.346463680267334\n",
            "Epoch: 12, Loss: 1.3388220071792603\n",
            "Epoch: 13, Loss: 1.3306517601013184\n",
            "Epoch: 14, Loss: 1.321907877922058\n",
            "Epoch: 15, Loss: 1.3125460147857666\n",
            "Epoch: 16, Loss: 1.3025131225585938\n",
            "Epoch: 17, Loss: 1.2917399406433105\n",
            "Epoch: 18, Loss: 1.2801498174667358\n",
            "Epoch: 19, Loss: 1.267681360244751\n",
            "Epoch: 20, Loss: 1.2542929649353027\n",
            "Epoch: 21, Loss: 1.2399559020996094\n",
            "Epoch: 22, Loss: 1.2246456146240234\n",
            "Epoch: 23, Loss: 1.208348035812378\n",
            "Epoch: 24, Loss: 1.1910830736160278\n",
            "Epoch: 25, Loss: 1.172907829284668\n",
            "Epoch: 26, Loss: 1.1538856029510498\n",
            "Epoch: 27, Loss: 1.1340937614440918\n",
            "Epoch: 28, Loss: 1.113678216934204\n",
            "Epoch: 29, Loss: 1.092814564704895\n",
            "Epoch: 30, Loss: 1.0716636180877686\n",
            "Epoch: 31, Loss: 1.0504322052001953\n",
            "Epoch: 32, Loss: 1.0293235778808594\n",
            "Epoch: 33, Loss: 1.0085136890411377\n",
            "Epoch: 34, Loss: 0.9882093667984009\n",
            "Epoch: 35, Loss: 0.9685618877410889\n",
            "Epoch: 36, Loss: 0.949709951877594\n",
            "Epoch: 37, Loss: 0.931766152381897\n",
            "Epoch: 38, Loss: 0.914797306060791\n",
            "Epoch: 39, Loss: 0.8988679051399231\n",
            "Epoch: 40, Loss: 0.8839972615242004\n",
            "Epoch: 41, Loss: 0.8701907992362976\n",
            "Epoch: 42, Loss: 0.8574356436729431\n",
            "Epoch: 43, Loss: 0.8456955552101135\n",
            "Epoch: 44, Loss: 0.8349326252937317\n",
            "Epoch: 45, Loss: 0.8250938653945923\n",
            "Epoch: 46, Loss: 0.8161190748214722\n",
            "Epoch: 47, Loss: 0.8079493641853333\n",
            "Epoch: 48, Loss: 0.8005207777023315\n",
            "Epoch: 49, Loss: 0.7937698364257812\n",
            "Epoch: 50, Loss: 0.7876371145248413\n",
            "Epoch: 51, Loss: 0.7820647954940796\n",
            "Epoch: 52, Loss: 0.7769970297813416\n",
            "Epoch: 53, Loss: 0.772383451461792\n",
            "Epoch: 54, Loss: 0.7681777477264404\n",
            "Epoch: 55, Loss: 0.764336884021759\n",
            "Epoch: 56, Loss: 0.7608219385147095\n",
            "Epoch: 57, Loss: 0.7575988173484802\n",
            "Epoch: 58, Loss: 0.7546370625495911\n",
            "Epoch: 59, Loss: 0.7519098520278931\n",
            "Epoch: 60, Loss: 0.7493933439254761\n",
            "Epoch: 61, Loss: 0.7470666766166687\n",
            "Epoch: 62, Loss: 0.7449116110801697\n",
            "Epoch: 63, Loss: 0.7429124116897583\n",
            "Epoch: 64, Loss: 0.7410544157028198\n",
            "Epoch: 65, Loss: 0.7393249869346619\n",
            "Epoch: 66, Loss: 0.7377126216888428\n",
            "Epoch: 67, Loss: 0.7362067699432373\n",
            "Epoch: 68, Loss: 0.7347980737686157\n",
            "Epoch: 69, Loss: 0.7334779500961304\n",
            "Epoch: 70, Loss: 0.7322388291358948\n",
            "Epoch: 71, Loss: 0.7310730814933777\n",
            "Epoch: 72, Loss: 0.729974627494812\n",
            "Epoch: 73, Loss: 0.7289378643035889\n",
            "Epoch: 74, Loss: 0.727957546710968\n",
            "Epoch: 75, Loss: 0.7270289063453674\n",
            "Epoch: 76, Loss: 0.7261483669281006\n",
            "Epoch: 77, Loss: 0.7253118753433228\n",
            "Epoch: 78, Loss: 0.7245160937309265\n",
            "Epoch: 79, Loss: 0.7237582206726074\n",
            "Epoch: 80, Loss: 0.7230353355407715\n",
            "Epoch: 81, Loss: 0.7223449945449829\n",
            "Epoch: 82, Loss: 0.7216847538948059\n",
            "Epoch: 83, Loss: 0.7210524082183838\n",
            "Epoch: 84, Loss: 0.7204459309577942\n",
            "Epoch: 85, Loss: 0.7198635339736938\n",
            "Epoch: 86, Loss: 0.7193031311035156\n",
            "Epoch: 87, Loss: 0.7187634706497192\n",
            "Epoch: 88, Loss: 0.7182429432868958\n",
            "Epoch: 89, Loss: 0.7177403569221497\n",
            "Epoch: 90, Loss: 0.7172543406486511\n",
            "Epoch: 91, Loss: 0.7167837619781494\n",
            "Epoch: 92, Loss: 0.7163279056549072\n",
            "Epoch: 93, Loss: 0.7158852815628052\n",
            "Epoch: 94, Loss: 0.7154552340507507\n",
            "Epoch: 95, Loss: 0.7150366902351379\n",
            "Epoch: 96, Loss: 0.7146288156509399\n",
            "Epoch: 97, Loss: 0.7142307758331299\n",
            "Epoch: 98, Loss: 0.7138416171073914\n",
            "Epoch: 99, Loss: 0.7134605050086975\n",
            "Epoch: 100, Loss: 0.7130865454673767\n",
            "Epoch: 101, Loss: 0.7127191424369812\n",
            "Epoch: 102, Loss: 0.7123571634292603\n",
            "Epoch: 103, Loss: 0.7120000123977661\n",
            "Epoch: 104, Loss: 0.7116469144821167\n",
            "Epoch: 105, Loss: 0.7112967371940613\n",
            "Epoch: 106, Loss: 0.7109485864639282\n",
            "Epoch: 107, Loss: 0.7106014490127563\n",
            "Epoch: 108, Loss: 0.7102541327476501\n",
            "Epoch: 109, Loss: 0.7099055051803589\n",
            "Epoch: 110, Loss: 0.7095540165901184\n",
            "Epoch: 111, Loss: 0.7091981768608093\n",
            "Epoch: 112, Loss: 0.7088361978530884\n",
            "Epoch: 113, Loss: 0.7084661722183228\n",
            "Epoch: 114, Loss: 0.708085834980011\n",
            "Epoch: 115, Loss: 0.7076926827430725\n",
            "Epoch: 116, Loss: 0.7072839736938477\n",
            "Epoch: 117, Loss: 0.7068567872047424\n",
            "Epoch: 118, Loss: 0.7064076662063599\n",
            "Epoch: 119, Loss: 0.7059327960014343\n",
            "Epoch: 120, Loss: 0.7054286003112793\n",
            "Epoch: 121, Loss: 0.7048908472061157\n",
            "Epoch: 122, Loss: 0.7043148875236511\n",
            "Epoch: 123, Loss: 0.7036958932876587\n",
            "Epoch: 124, Loss: 0.7030287981033325\n",
            "Epoch: 125, Loss: 0.7023080587387085\n",
            "Epoch: 126, Loss: 0.7015290856361389\n",
            "Epoch: 127, Loss: 0.700687050819397\n",
            "Epoch: 128, Loss: 0.6997778415679932\n",
            "Epoch: 129, Loss: 0.6987966299057007\n",
            "Epoch: 130, Loss: 0.6977396607398987\n",
            "Epoch: 131, Loss: 0.696602463722229\n",
            "Epoch: 132, Loss: 0.6953816413879395\n",
            "Epoch: 133, Loss: 0.6940730810165405\n",
            "Epoch: 134, Loss: 0.6926734447479248\n",
            "Epoch: 135, Loss: 0.6911810040473938\n",
            "Epoch: 136, Loss: 0.6895937323570251\n",
            "Epoch: 137, Loss: 0.6879096031188965\n",
            "Epoch: 138, Loss: 0.6861275434494019\n",
            "Epoch: 139, Loss: 0.684245765209198\n",
            "Epoch: 140, Loss: 0.6822647452354431\n",
            "Epoch: 141, Loss: 0.6801842451095581\n",
            "Epoch: 142, Loss: 0.6780049204826355\n",
            "Epoch: 143, Loss: 0.6757267713546753\n",
            "Epoch: 144, Loss: 0.6733516454696655\n",
            "Epoch: 145, Loss: 0.6708808541297913\n",
            "Epoch: 146, Loss: 0.6683160662651062\n",
            "Epoch: 147, Loss: 0.6656591296195984\n",
            "Epoch: 148, Loss: 0.662912905216217\n",
            "Epoch: 149, Loss: 0.6600788831710815\n",
            "Epoch: 150, Loss: 0.6571605205535889\n",
            "Epoch: 151, Loss: 0.6541601419448853\n",
            "Epoch: 152, Loss: 0.6510804295539856\n",
            "Epoch: 153, Loss: 0.6479244828224182\n",
            "Epoch: 154, Loss: 0.6446952223777771\n",
            "Epoch: 155, Loss: 0.6413952708244324\n",
            "Epoch: 156, Loss: 0.6380281448364258\n",
            "Epoch: 157, Loss: 0.6346033811569214\n",
            "Epoch: 158, Loss: 0.6312015056610107\n",
            "Epoch: 159, Loss: 0.628165602684021\n",
            "Epoch: 160, Loss: 0.6246151924133301\n",
            "Epoch: 161, Loss: 0.6204967498779297\n",
            "Epoch: 162, Loss: 0.61747145652771\n",
            "Epoch: 163, Loss: 0.6130638122558594\n",
            "Epoch: 164, Loss: 0.6099106669425964\n",
            "Epoch: 165, Loss: 0.6056247353553772\n",
            "Epoch: 166, Loss: 0.6023772954940796\n",
            "Epoch: 167, Loss: 0.5980762243270874\n",
            "Epoch: 168, Loss: 0.5946623086929321\n",
            "Epoch: 169, Loss: 0.5904605388641357\n",
            "Epoch: 170, Loss: 0.5869458913803101\n",
            "Epoch: 171, Loss: 0.5827823281288147\n",
            "Epoch: 172, Loss: 0.5791362524032593\n",
            "Epoch: 173, Loss: 0.5750856399536133\n",
            "Epoch: 174, Loss: 0.5713247656822205\n",
            "Epoch: 175, Loss: 0.5673713684082031\n",
            "Epoch: 176, Loss: 0.563502311706543\n",
            "Epoch: 177, Loss: 0.5596573948860168\n",
            "Epoch: 178, Loss: 0.5557200312614441\n",
            "Epoch: 179, Loss: 0.5519623756408691\n",
            "Epoch: 180, Loss: 0.5480127334594727\n",
            "Epoch: 181, Loss: 0.5442786812782288\n",
            "Epoch: 182, Loss: 0.5404089689254761\n",
            "Epoch: 183, Loss: 0.5366603136062622\n",
            "Epoch: 184, Loss: 0.5329183340072632\n",
            "Epoch: 185, Loss: 0.5291579961776733\n",
            "Epoch: 186, Loss: 0.5255188345909119\n",
            "Epoch: 187, Loss: 0.5218374729156494\n",
            "Epoch: 188, Loss: 0.5182420611381531\n",
            "Epoch: 189, Loss: 0.5146999359130859\n",
            "Epoch: 190, Loss: 0.5111614465713501\n",
            "Epoch: 191, Loss: 0.5077172517776489\n",
            "Epoch: 192, Loss: 0.5043153166770935\n",
            "Epoch: 193, Loss: 0.5009499788284302\n",
            "Epoch: 194, Loss: 0.49767041206359863\n",
            "Epoch: 195, Loss: 0.49444329738616943\n",
            "Epoch: 196, Loss: 0.49126285314559937\n",
            "Epoch: 197, Loss: 0.4881598949432373\n",
            "Epoch: 198, Loss: 0.48512178659439087\n",
            "Epoch: 199, Loss: 0.48213523626327515\n",
            "Epoch: 200, Loss: 0.47921574115753174\n",
            "Epoch: 201, Loss: 0.47636649012565613\n",
            "Epoch: 202, Loss: 0.47357532382011414\n",
            "Epoch: 203, Loss: 0.47084230184555054\n",
            "Epoch: 204, Loss: 0.4681748151779175\n",
            "Epoch: 205, Loss: 0.465570867061615\n",
            "Epoch: 206, Loss: 0.4630242884159088\n",
            "Epoch: 207, Loss: 0.4605354070663452\n",
            "Epoch: 208, Loss: 0.4581078290939331\n",
            "Epoch: 209, Loss: 0.455740749835968\n",
            "Epoch: 210, Loss: 0.45343083143234253\n",
            "Epoch: 211, Loss: 0.45117729902267456\n",
            "Epoch: 212, Loss: 0.4489814043045044\n",
            "Epoch: 213, Loss: 0.4468435049057007\n",
            "Epoch: 214, Loss: 0.44476231932640076\n",
            "Epoch: 215, Loss: 0.44273608922958374\n",
            "Epoch: 216, Loss: 0.4407643675804138\n",
            "Epoch: 217, Loss: 0.4388471841812134\n",
            "Epoch: 218, Loss: 0.43698400259017944\n",
            "Epoch: 219, Loss: 0.43517327308654785\n",
            "Epoch: 220, Loss: 0.43341338634490967\n",
            "Epoch: 221, Loss: 0.43170320987701416\n",
            "Epoch: 222, Loss: 0.430042028427124\n",
            "Epoch: 223, Loss: 0.4284287095069885\n",
            "Epoch: 224, Loss: 0.4268616735935211\n",
            "Epoch: 225, Loss: 0.42533937096595764\n",
            "Epoch: 226, Loss: 0.4238603413105011\n",
            "Epoch: 227, Loss: 0.4224231243133545\n",
            "Epoch: 228, Loss: 0.42102688550949097\n",
            "Epoch: 229, Loss: 0.41966983675956726\n",
            "Epoch: 230, Loss: 0.4183507263660431\n",
            "Epoch: 231, Loss: 0.41706812381744385\n",
            "Epoch: 232, Loss: 0.4158205986022949\n",
            "Epoch: 233, Loss: 0.4146069586277008\n",
            "Epoch: 234, Loss: 0.4134259521961212\n",
            "Epoch: 235, Loss: 0.41227656602859497\n",
            "Epoch: 236, Loss: 0.4111572802066803\n",
            "Epoch: 237, Loss: 0.4100671410560608\n",
            "Epoch: 238, Loss: 0.409004807472229\n",
            "Epoch: 239, Loss: 0.40796926617622375\n",
            "Epoch: 240, Loss: 0.4069594740867615\n",
            "Epoch: 241, Loss: 0.40597444772720337\n",
            "Epoch: 242, Loss: 0.40501296520233154\n",
            "Epoch: 243, Loss: 0.4040740728378296\n",
            "Epoch: 244, Loss: 0.4031567871570587\n",
            "Epoch: 245, Loss: 0.40225982666015625\n",
            "Epoch: 246, Loss: 0.4013826847076416\n",
            "Epoch: 247, Loss: 0.4005238711833954\n",
            "Epoch: 248, Loss: 0.3996826708316803\n",
            "Epoch: 249, Loss: 0.3988579511642456\n",
            "Epoch: 250, Loss: 0.3980486989021301\n",
            "Epoch: 251, Loss: 0.3972538411617279\n",
            "Epoch: 252, Loss: 0.39647233486175537\n",
            "Epoch: 253, Loss: 0.3957030773162842\n",
            "Epoch: 254, Loss: 0.3949447274208069\n",
            "Epoch: 255, Loss: 0.39419615268707275\n",
            "Epoch: 256, Loss: 0.3934559226036072\n",
            "Epoch: 257, Loss: 0.3927227556705475\n",
            "Epoch: 258, Loss: 0.3919948637485504\n",
            "Epoch: 259, Loss: 0.39127063751220703\n",
            "Epoch: 260, Loss: 0.3905482888221741\n",
            "Epoch: 261, Loss: 0.38982564210891724\n",
            "Epoch: 262, Loss: 0.38910046219825745\n",
            "Epoch: 263, Loss: 0.3883703947067261\n",
            "Epoch: 264, Loss: 0.38763272762298584\n",
            "Epoch: 265, Loss: 0.38688457012176514\n",
            "Epoch: 266, Loss: 0.38612300157546997\n",
            "Epoch: 267, Loss: 0.385344922542572\n",
            "Epoch: 268, Loss: 0.38454726338386536\n",
            "Epoch: 269, Loss: 0.38372689485549927\n",
            "Epoch: 270, Loss: 0.38288062810897827\n",
            "Epoch: 271, Loss: 0.3820054531097412\n",
            "Epoch: 272, Loss: 0.38109761476516724\n",
            "Epoch: 273, Loss: 0.3801530599594116\n",
            "Epoch: 274, Loss: 0.3791676163673401\n",
            "Epoch: 275, Loss: 0.3781372904777527\n",
            "Epoch: 276, Loss: 0.3770589828491211\n",
            "Epoch: 277, Loss: 0.3759295642375946\n",
            "Epoch: 278, Loss: 0.37474533915519714\n",
            "Epoch: 279, Loss: 0.3735020160675049\n",
            "Epoch: 280, Loss: 0.3721955418586731\n",
            "Epoch: 281, Loss: 0.37082284688949585\n",
            "Epoch: 282, Loss: 0.3693801760673523\n",
            "Epoch: 283, Loss: 0.36786341667175293\n",
            "Epoch: 284, Loss: 0.366269588470459\n",
            "Epoch: 285, Loss: 0.36459779739379883\n",
            "Epoch: 286, Loss: 0.36284583806991577\n",
            "Epoch: 287, Loss: 0.36101168394088745\n",
            "Epoch: 288, Loss: 0.3590952157974243\n",
            "Epoch: 289, Loss: 0.35709473490715027\n",
            "Epoch: 290, Loss: 0.35500985383987427\n",
            "Epoch: 291, Loss: 0.3528423011302948\n",
            "Epoch: 292, Loss: 0.3505920171737671\n",
            "Epoch: 293, Loss: 0.3482612371444702\n",
            "Epoch: 294, Loss: 0.3458503484725952\n",
            "Epoch: 295, Loss: 0.34336262941360474\n",
            "Epoch: 296, Loss: 0.34080055356025696\n",
            "Epoch: 297, Loss: 0.3381676971912384\n",
            "Epoch: 298, Loss: 0.3354666829109192\n",
            "Epoch: 299, Loss: 0.33270251750946045\n",
            "Epoch: 300, Loss: 0.32987892627716064\n",
            "Epoch: 301, Loss: 0.32700103521347046\n",
            "Epoch: 302, Loss: 0.3240734338760376\n",
            "Epoch: 303, Loss: 0.3211015462875366\n",
            "Epoch: 304, Loss: 0.31809109449386597\n",
            "Epoch: 305, Loss: 0.3150474727153778\n",
            "Epoch: 306, Loss: 0.31197673082351685\n",
            "Epoch: 307, Loss: 0.3088841438293457\n",
            "Epoch: 308, Loss: 0.3057765066623688\n",
            "Epoch: 309, Loss: 0.30265936255455017\n",
            "Epoch: 310, Loss: 0.299538791179657\n",
            "Epoch: 311, Loss: 0.2964206337928772\n",
            "Epoch: 312, Loss: 0.29331064224243164\n",
            "Epoch: 313, Loss: 0.29021620750427246\n",
            "Epoch: 314, Loss: 0.28715088963508606\n",
            "Epoch: 315, Loss: 0.28417742252349854\n",
            "Epoch: 316, Loss: 0.281697154045105\n",
            "Epoch: 317, Loss: 0.28090256452560425\n",
            "Epoch: 318, Loss: 0.28207844495773315\n",
            "Epoch: 319, Loss: 0.272327721118927\n",
            "Epoch: 320, Loss: 0.2786695957183838\n",
            "Epoch: 321, Loss: 0.27025413513183594\n",
            "Epoch: 322, Loss: 0.27106407284736633\n",
            "Epoch: 323, Loss: 0.26157233119010925\n",
            "Epoch: 324, Loss: 0.26617366075515747\n",
            "Epoch: 325, Loss: 0.256637305021286\n",
            "Epoch: 326, Loss: 0.2595919966697693\n",
            "Epoch: 327, Loss: 0.25156378746032715\n",
            "Epoch: 328, Loss: 0.25360485911369324\n",
            "Epoch: 329, Loss: 0.2471221387386322\n",
            "Epoch: 330, Loss: 0.24679924547672272\n",
            "Epoch: 331, Loss: 0.24412956833839417\n",
            "Epoch: 332, Loss: 0.2402193248271942\n",
            "Epoch: 333, Loss: 0.24025550484657288\n",
            "Epoch: 334, Loss: 0.23536452651023865\n",
            "Epoch: 335, Loss: 0.23567727208137512\n",
            "Epoch: 336, Loss: 0.23136261105537415\n",
            "Epoch: 337, Loss: 0.23091459274291992\n",
            "Epoch: 338, Loss: 0.22779963910579681\n",
            "Epoch: 339, Loss: 0.22621935606002808\n",
            "Epoch: 340, Loss: 0.2245185673236847\n",
            "Epoch: 341, Loss: 0.22186632454395294\n",
            "Epoch: 342, Loss: 0.2210533320903778\n",
            "Epoch: 343, Loss: 0.21813121438026428\n",
            "Epoch: 344, Loss: 0.21742987632751465\n",
            "Epoch: 345, Loss: 0.21475431323051453\n",
            "Epoch: 346, Loss: 0.21383562684059143\n",
            "Epoch: 347, Loss: 0.21159616112709045\n",
            "Epoch: 348, Loss: 0.21031582355499268\n",
            "Epoch: 349, Loss: 0.20859143137931824\n",
            "Epoch: 350, Loss: 0.20696482062339783\n",
            "Epoch: 351, Loss: 0.20562028884887695\n",
            "Epoch: 352, Loss: 0.203835591673851\n",
            "Epoch: 353, Loss: 0.20268939435482025\n",
            "Epoch: 354, Loss: 0.20087647438049316\n",
            "Epoch: 355, Loss: 0.19980742037296295\n",
            "Epoch: 356, Loss: 0.19807124137878418\n",
            "Epoch: 357, Loss: 0.1969769299030304\n",
            "Epoch: 358, Loss: 0.19537746906280518\n",
            "Epoch: 359, Loss: 0.19423344731330872\n",
            "Epoch: 360, Loss: 0.19276843965053558\n",
            "Epoch: 361, Loss: 0.19157862663269043\n",
            "Epoch: 362, Loss: 0.1902356892824173\n",
            "Epoch: 363, Loss: 0.18901696801185608\n",
            "Epoch: 364, Loss: 0.18776541948318481\n",
            "Epoch: 365, Loss: 0.18654052913188934\n",
            "Epoch: 366, Loss: 0.18535655736923218\n",
            "Epoch: 367, Loss: 0.18414093554019928\n",
            "Epoch: 368, Loss: 0.18300791084766388\n",
            "Epoch: 369, Loss: 0.1818147897720337\n",
            "Epoch: 370, Loss: 0.18071956932544708\n",
            "Epoch: 371, Loss: 0.1795548051595688\n",
            "Epoch: 372, Loss: 0.17848971486091614\n",
            "Epoch: 373, Loss: 0.17735567688941956\n",
            "Epoch: 374, Loss: 0.17631469666957855\n",
            "Epoch: 375, Loss: 0.17521288990974426\n",
            "Epoch: 376, Loss: 0.17419415712356567\n",
            "Epoch: 377, Loss: 0.1731240302324295\n",
            "Epoch: 378, Loss: 0.17212510108947754\n",
            "Epoch: 379, Loss: 0.17108562588691711\n",
            "Epoch: 380, Loss: 0.17010566592216492\n",
            "Epoch: 381, Loss: 0.16909465193748474\n",
            "Epoch: 382, Loss: 0.16813230514526367\n",
            "Epoch: 383, Loss: 0.1671486645936966\n",
            "Epoch: 384, Loss: 0.16620418429374695\n",
            "Epoch: 385, Loss: 0.16524618864059448\n",
            "Epoch: 386, Loss: 0.16431857645511627\n",
            "Epoch: 387, Loss: 0.16338467597961426\n",
            "Epoch: 388, Loss: 0.16247370839118958\n",
            "Epoch: 389, Loss: 0.1615622639656067\n",
            "Epoch: 390, Loss: 0.16066735982894897\n",
            "Epoch: 391, Loss: 0.15977752208709717\n",
            "Epoch: 392, Loss: 0.1588984727859497\n",
            "Epoch: 393, Loss: 0.15802863240242004\n",
            "Epoch: 394, Loss: 0.15716522932052612\n",
            "Epoch: 395, Loss: 0.15631398558616638\n",
            "Epoch: 396, Loss: 0.15546616911888123\n",
            "Epoch: 397, Loss: 0.15463243424892426\n",
            "Epoch: 398, Loss: 0.1538001298904419\n",
            "Epoch: 399, Loss: 0.15298274159431458\n",
            "Epoch: 400, Loss: 0.15216581523418427\n"
          ]
        }
      ]
    }
  ]
}